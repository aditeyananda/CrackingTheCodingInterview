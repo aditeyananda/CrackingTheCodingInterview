{
  "nbformat": 4,
  "nbformat_minor": 0,
  "metadata": {
    "colab": {
      "name": "CheckPermutation.ipynb",
      "provenance": [],
      "authorship_tag": "ABX9TyOfCwwHknu3zuqdA1BWFtGP",
      "include_colab_link": true
    },
    "kernelspec": {
      "name": "python3",
      "display_name": "Python 3"
    },
    "language_info": {
      "name": "python"
    }
  },
  "cells": [
    {
      "cell_type": "markdown",
      "metadata": {
        "id": "view-in-github",
        "colab_type": "text"
      },
      "source": [
        "<a href=\"https://colab.research.google.com/github/aditeyananda/CrackingTheCodingInterview/blob/main/ArrayAndStrings/CheckPermutation.ipynb\" target=\"_parent\"><img src=\"https://colab.research.google.com/assets/colab-badge.svg\" alt=\"Open In Colab\"/></a>"
      ]
    },
    {
      "cell_type": "code",
      "metadata": {
        "colab": {
          "base_uri": "https://localhost:8080/"
        },
        "id": "i5ZZrzZBeX4d",
        "outputId": "7045ea82-8e15-4b83-d3a5-8fe0d5454462"
      },
      "source": [
        "#Brute Fore Solution\n",
        "def CheckPerm(str1, str2):\n",
        "  #if length of the 2 strings does not match they can not be permutations\n",
        "  if(len(str1)!=len(str2)):\n",
        "    return False\n",
        "\n",
        "  str1 = sorted(str1.lower())\n",
        "  str2 = sorted(str2.lower())\n",
        "\n",
        "  if(str1 == str2):\n",
        "    return True\n",
        "  else:\n",
        "    return False\n",
        "\n",
        "x = \"hello\"\n",
        "y = \"olleH\"\n",
        "CheckPerm(x, y)"
      ],
      "execution_count": 6,
      "outputs": [
        {
          "output_type": "execute_result",
          "data": {
            "text/plain": [
              "True"
            ]
          },
          "metadata": {},
          "execution_count": 6
        }
      ]
    }
  ]
}