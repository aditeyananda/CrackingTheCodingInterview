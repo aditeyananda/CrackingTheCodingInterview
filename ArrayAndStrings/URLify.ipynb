{
  "nbformat": 4,
  "nbformat_minor": 0,
  "metadata": {
    "colab": {
      "name": "URLify.ipynb",
      "provenance": [],
      "authorship_tag": "ABX9TyPo/o7xdfxPX+Q+1X623sri",
      "include_colab_link": true
    },
    "kernelspec": {
      "name": "python3",
      "display_name": "Python 3"
    },
    "language_info": {
      "name": "python"
    }
  },
  "cells": [
    {
      "cell_type": "markdown",
      "metadata": {
        "id": "view-in-github",
        "colab_type": "text"
      },
      "source": [
        "<a href=\"https://colab.research.google.com/github/aditeyananda/CrackingTheCodingInterview/blob/main/ArrayAndStrings/URLify.ipynb\" target=\"_parent\"><img src=\"https://colab.research.google.com/assets/colab-badge.svg\" alt=\"Open In Colab\"/></a>"
      ]
    },
    {
      "cell_type": "markdown",
      "metadata": {
        "id": "CMGPIciUls1_"
      },
      "source": [
        "**strip()** method removes any spaces or specified characters at the start and end of a string.\n",
        "\n",
        "**replace()** method returns a copy of the string in which the occurrences of old have been replaced with new\n",
        "\n",
        "**join()** method takes all items in an iterable and joins them into one string. A string must be specified as the separator.\n",
        "```\n",
        "string.join(iterable)\n",
        "```\n",
        "**split()** method splits a string into a list. You can specify the separator, default separator is any whitespace.\n",
        "```\n",
        "string.split(separator, maxsplit)\n",
        "```"
      ]
    },
    {
      "cell_type": "code",
      "metadata": {
        "colab": {
          "base_uri": "https://localhost:8080/",
          "height": 35
        },
        "id": "tD2iuwTtjnOM",
        "outputId": "d1f3cf8e-288f-44ca-9451-5e7fd75127e6"
      },
      "source": [
        "def URLifyv1(str):\n",
        "  return str.strip().replace(\" \",\"%20\")\n",
        "  \n",
        "URLifyv2(\"Mr John Smith   \")"
      ],
      "execution_count": 8,
      "outputs": [
        {
          "output_type": "execute_result",
          "data": {
            "application/vnd.google.colaboratory.intrinsic+json": {
              "type": "string"
            },
            "text/plain": [
              "'Mr%20John%20Smith'"
            ]
          },
          "metadata": {},
          "execution_count": 8
        }
      ]
    },
    {
      "cell_type": "code",
      "metadata": {
        "colab": {
          "base_uri": "https://localhost:8080/",
          "height": 35
        },
        "id": "r6QKYu6JlnZ0",
        "outputId": "85ed138c-a2dd-483b-94eb-45ed9aea8ff1"
      },
      "source": [
        "def URLifyv2(str):  \n",
        "  return '%20'.join(str.split())\n",
        "\n",
        "URLifyv1(\"Mr John Smith   \")"
      ],
      "execution_count": 9,
      "outputs": [
        {
          "output_type": "execute_result",
          "data": {
            "application/vnd.google.colaboratory.intrinsic+json": {
              "type": "string"
            },
            "text/plain": [
              "'Mr%20John%20Smith'"
            ]
          },
          "metadata": {},
          "execution_count": 9
        }
      ]
    }
  ]
}