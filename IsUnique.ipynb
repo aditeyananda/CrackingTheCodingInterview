{
  "nbformat": 4,
  "nbformat_minor": 0,
  "metadata": {
    "colab": {
      "name": "IsUnique.ipynb",
      "provenance": [],
      "authorship_tag": "ABX9TyOd5sv3tQmxEsEXY/csK7Cb",
      "include_colab_link": true
    },
    "kernelspec": {
      "name": "python3",
      "display_name": "Python 3"
    },
    "language_info": {
      "name": "python"
    }
  },
  "cells": [
    {
      "cell_type": "markdown",
      "metadata": {
        "id": "view-in-github",
        "colab_type": "text"
      },
      "source": [
        "<a href=\"https://colab.research.google.com/github/aditeyananda/CrackingTheCodingInterview/blob/main/IsUnique.ipynb\" target=\"_parent\"><img src=\"https://colab.research.google.com/assets/colab-badge.svg\" alt=\"Open In Colab\"/></a>"
      ]
    },
    {
      "cell_type": "code",
      "metadata": {
        "colab": {
          "base_uri": "https://localhost:8080/"
        },
        "id": "HBZSnzbfu0jd",
        "outputId": "d9dc7386-9370-4a61-8e5f-b6231e7c9df8"
      },
      "source": [
        "#Function Without using additional data structures\n",
        "def IsUnique(str):\n",
        "  #sorting the string with O(nlogn) time complexity\n",
        "  str = sorted(str.lower())\n",
        "\n",
        "  if(len(str)>128):\n",
        "    return false\n",
        "  #going through the string in just O(n) time\n",
        "  for i in range(0, len(str)):\n",
        "    if(str[i]==str[i-1]):\n",
        "        return False\n",
        "  return True\n",
        "\n",
        "str = \"abcdA\"\n",
        "IsUnique(str)"
      ],
      "execution_count": null,
      "outputs": [
        {
          "output_type": "execute_result",
          "data": {
            "text/plain": [
              "False"
            ]
          },
          "metadata": {},
          "execution_count": 1
        }
      ]
    },
    {
      "cell_type": "code",
      "metadata": {
        "colab": {
          "base_uri": "https://localhost:8080/"
        },
        "id": "TRpkQFtd3Ps0",
        "outputId": "e8457de7-e792-41fe-a390-bf91129d4810"
      },
      "source": [
        "#Function using additional data structures\n",
        "def isUnique(str):\n",
        "    str = str.lower()\n",
        "    # i1,i2 -> counter, j1,j2 -> letter\n",
        "    for i1, j1  in enumerate(str):\n",
        "        for i2, j2 in enumerate(s):\n",
        "            if i1 == j2: # skip if same index\n",
        "              continue;\n",
        "            if j1 == j2:\n",
        "              return False\n",
        "    return True\n",
        "\n",
        "str = \"abcd\"\n",
        "IsUnique(str)"
      ],
      "execution_count": null,
      "outputs": [
        {
          "output_type": "execute_result",
          "data": {
            "text/plain": [
              "True"
            ]
          },
          "metadata": {},
          "execution_count": 2
        }
      ]
    }
  ]
}